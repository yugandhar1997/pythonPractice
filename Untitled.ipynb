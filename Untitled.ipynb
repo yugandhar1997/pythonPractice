{
 "cells": [
  {
   "cell_type": "code",
   "execution_count": 30,
   "metadata": {},
   "outputs": [
    {
     "name": "stdout",
     "output_type": "stream",
     "text": [
      "print all sheets in Excel Workbook\n",
      "Sheet2\n",
      "print type sheet\n",
      "<class 'openpyxl.worksheet.worksheet.Worksheet'>\n",
      "sheet name\n",
      "Sheet2\n"
     ]
    }
   ],
   "source": [
    "import openpyxl\n",
    "wb=openpyxl.load_workbook('C:/Users/yugan/Documents/Python Data 1200/Peter/realestatedata.xlsx')\n",
    "\n",
    "sheets = wb.sheetnames\n",
    "\n",
    "print(\"print all sheets in Excel Workbook\")\n",
    "\n",
    "for x in sheets:\n",
    "    print(x)\n",
    "\n",
    "print(\"print type sheet\")\n",
    "print(type(sheet))\n",
    "print(\"sheet name\") \n",
    "print(sheet.title)\n"
   ]
  },
  {
   "cell_type": "code",
   "execution_count": null,
   "metadata": {},
   "outputs": [],
   "source": []
  }
 ],
 "metadata": {
  "kernelspec": {
   "display_name": "Python 3",
   "language": "python",
   "name": "python3"
  },
  "language_info": {
   "codemirror_mode": {
    "name": "ipython",
    "version": 3
   },
   "file_extension": ".py",
   "mimetype": "text/x-python",
   "name": "python",
   "nbconvert_exporter": "python",
   "pygments_lexer": "ipython3",
   "version": "3.8.5"
  }
 },
 "nbformat": 4,
 "nbformat_minor": 4
}
